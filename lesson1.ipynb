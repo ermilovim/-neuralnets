{
  "nbformat": 4,
  "nbformat_minor": 0,
  "metadata": {
    "colab": {
      "name": "lesson1.ipynb",
      "provenance": [],
      "collapsed_sections": [
        "cTDq3TVLdjm-",
        "imE2fiJdub4f",
        "RcMrhrAQw9Cz",
        "PSk-Skghd4Iq",
        "VxhuW0WsUpHC",
        "k_-vvtd60wZb",
        "Tl4rToxG2efk",
        "2bE3KuubAKql",
        "Lm8_M8fbBwR-",
        "6-DI0kb6C1uG",
        "bx75GxCWKQPY",
        "klP58HLF0bSI",
        "teTscjRI0-qT",
        "0pfTq_Oy1n3b",
        "XKrr3OPn6tgA",
        "c5Uv7b4_COL6",
        "sbqUJMeKFYRT"
      ],
      "toc_visible": true,
      "authorship_tag": "ABX9TyOH28DZI1G/p/7Wl2itZ31e",
      "include_colab_link": true
    },
    "kernelspec": {
      "name": "python3",
      "display_name": "Python 3"
    }
  },
  "cells": [
    {
      "cell_type": "markdown",
      "metadata": {
        "id": "view-in-github",
        "colab_type": "text"
      },
      "source": [
        "<a href=\"https://colab.research.google.com/github/ermilovim/neuralnets/blob/master/lesson1.ipynb\" target=\"_parent\"><img src=\"https://colab.research.google.com/assets/colab-badge.svg\" alt=\"Open In Colab\"/></a>"
      ]
    },
    {
      "cell_type": "markdown",
      "metadata": {
        "colab_type": "text",
        "id": "3ac4ywdmCec7"
      },
      "source": [
        "# Занятие №1. Первые программы на Python\n",
        "\n",
        "![alt text](https://drive.google.com/uc?export=view&id=1M05oSpwlZyh1-F-6E6P_PSmmLHUG6F0-)\n",
        "\n",
        "Уважаемые слушатели, на первом уроке мы с вами познакомимся с синтаксисом, типами данных и основными конструкциями языка Python."
      ]
    },
    {
      "cell_type": "markdown",
      "metadata": {
        "id": "-UmxWIm7tCbM",
        "colab_type": "text"
      },
      "source": [
        "## Простейшие операции, типы данных, вывод на экран, базовые конструкции и функции"
      ]
    },
    {
      "cell_type": "markdown",
      "metadata": {
        "id": "cTDq3TVLdjm-",
        "colab_type": "text"
      },
      "source": [
        "### Простейшие операции"
      ]
    },
    {
      "cell_type": "code",
      "metadata": {
        "id": "F6oelRCxtUzm",
        "colab_type": "code",
        "colab": {}
      },
      "source": [
        "# Сложим два числа\n",
        "2 + 2"
      ],
      "execution_count": null,
      "outputs": []
    },
    {
      "cell_type": "code",
      "metadata": {
        "id": "n07aXKWitYDL",
        "colab_type": "code",
        "colab": {}
      },
      "source": [
        "# Умножим два числа\n",
        "2 * 3"
      ],
      "execution_count": null,
      "outputs": []
    },
    {
      "cell_type": "code",
      "metadata": {
        "id": "Nc4Km9k3tapZ",
        "colab_type": "code",
        "colab": {}
      },
      "source": [
        "# Проверим операцию со скобками\n",
        "3*(2 + 7)"
      ],
      "execution_count": null,
      "outputs": []
    },
    {
      "cell_type": "code",
      "metadata": {
        "id": "O9ev6k04tdNN",
        "colab_type": "code",
        "colab": {}
      },
      "source": [
        "# Проверим еще и деление\n",
        "32*(4 + 8)/10"
      ],
      "execution_count": null,
      "outputs": []
    },
    {
      "cell_type": "code",
      "metadata": {
        "id": "FsYG3wnatoiv",
        "colab_type": "code",
        "colab": {}
      },
      "source": [
        "# А теперь поделим на 0!\n",
        "32/0"
      ],
      "execution_count": null,
      "outputs": []
    },
    {
      "cell_type": "code",
      "metadata": {
        "id": "B7rk1lo6t0UB",
        "colab_type": "code",
        "colab": {
          "base_uri": "https://localhost:8080/",
          "height": 33
        },
        "outputId": "33321b13-b140-4104-9713-dee51c8f2f6c"
      },
      "source": [
        "# Возведем число в степень\n",
        "2**3"
      ],
      "execution_count": null,
      "outputs": [
        {
          "output_type": "execute_result",
          "data": {
            "text/plain": [
              "8"
            ]
          },
          "metadata": {
            "tags": []
          },
          "execution_count": 6
        }
      ]
    },
    {
      "cell_type": "code",
      "metadata": {
        "id": "nFrEd6iCt1pk",
        "colab_type": "code",
        "colab": {
          "base_uri": "https://localhost:8080/",
          "height": 33
        },
        "outputId": "8da512af-cda0-4423-c1c0-7177042b01af"
      },
      "source": [
        "# Команда для вывода на экран\n",
        "print(2 * 2)\n",
        "# Стоп! Раньше тоже происходил вывод на экран... \n",
        "# Результат последней строки каждого абзаца автоматически выводится на экран"
      ],
      "execution_count": null,
      "outputs": [
        {
          "output_type": "stream",
          "text": [
            "4\n"
          ],
          "name": "stdout"
        }
      ]
    },
    {
      "cell_type": "markdown",
      "metadata": {
        "id": "imE2fiJdub4f",
        "colab_type": "text"
      },
      "source": [
        "### Строки\n",
        "До сего момента мы работали только с числами. Для работы с текстом широко используется тип данных str (string)"
      ]
    },
    {
      "cell_type": "code",
      "metadata": {
        "id": "xnzGXvEtupdf",
        "colab_type": "code",
        "colab": {}
      },
      "source": [
        "text = 'I like Data Science!'"
      ],
      "execution_count": null,
      "outputs": []
    },
    {
      "cell_type": "code",
      "metadata": {
        "id": "flNkRozUus2e",
        "colab_type": "code",
        "colab": {}
      },
      "source": [
        "text"
      ],
      "execution_count": null,
      "outputs": []
    },
    {
      "cell_type": "code",
      "metadata": {
        "id": "b66osb4futjG",
        "colab_type": "code",
        "colab": {}
      },
      "source": [
        "type(text)"
      ],
      "execution_count": null,
      "outputs": []
    },
    {
      "cell_type": "code",
      "metadata": {
        "id": "xdQfn5y6lIED",
        "colab_type": "code",
        "colab": {}
      },
      "source": [
        "# длина строки\n",
        "len(text)"
      ],
      "execution_count": null,
      "outputs": []
    },
    {
      "cell_type": "code",
      "metadata": {
        "id": "I6eFumi5uvnB",
        "colab_type": "code",
        "colab": {}
      },
      "source": [
        "# Со строками тоже можно проводить \"арифметические\" операции!\n",
        "print(text * 3)\n",
        "print(text + \" Data Science like me too!\")"
      ],
      "execution_count": null,
      "outputs": []
    },
    {
      "cell_type": "code",
      "metadata": {
        "id": "x9OtD4QovVLu",
        "colab_type": "code",
        "colab": {}
      },
      "source": [
        "# Не все операции можно проводить со строками...\n",
        "text**2"
      ],
      "execution_count": null,
      "outputs": []
    },
    {
      "cell_type": "code",
      "metadata": {
        "id": "HSu4LIhMvg1o",
        "colab_type": "code",
        "colab": {}
      },
      "source": [
        "text - \"foo\""
      ],
      "execution_count": null,
      "outputs": []
    },
    {
      "cell_type": "code",
      "metadata": {
        "id": "6knDqA5tv1pF",
        "colab_type": "code",
        "colab": {}
      },
      "source": [
        "# Так тоже нельзя. Нужно следить за типом данных!\n",
        "\"5\" + 2"
      ],
      "execution_count": null,
      "outputs": []
    },
    {
      "cell_type": "code",
      "metadata": {
        "id": "KMQYgib9wEue",
        "colab_type": "code",
        "colab": {}
      },
      "source": [
        "# К символам допускается обращение как к элементам массива\n",
        "text[5]"
      ],
      "execution_count": null,
      "outputs": []
    },
    {
      "cell_type": "code",
      "metadata": {
        "id": "e9vkJftjwFVF",
        "colab_type": "code",
        "colab": {}
      },
      "source": [
        "# Обратная нумерация элементов - очень удобная вещь!\n",
        "text[-3]"
      ],
      "execution_count": null,
      "outputs": []
    },
    {
      "cell_type": "code",
      "metadata": {
        "id": "zoZ5Fx2DwQjX",
        "colab_type": "code",
        "colab": {}
      },
      "source": [
        "# Также, можно делать срезы строк\n",
        "print(text[3:])\n",
        "print(text[7:11])\n",
        "print(text[::3])"
      ],
      "execution_count": null,
      "outputs": []
    },
    {
      "cell_type": "markdown",
      "metadata": {
        "id": "RcMrhrAQw9Cz",
        "colab_type": "text"
      },
      "source": [
        "### FOR\n",
        "**Цикл for** - наиболее часто используемая конструкция в Python.\n",
        "\n",
        "Мы используем цикл **for** в тех случаях, когда вам нужно повторить что-нибудь n-ное количество раз"
      ]
    },
    {
      "cell_type": "code",
      "metadata": {
        "id": "i0hoa6WOGt-Q",
        "colab_type": "code",
        "colab": {}
      },
      "source": [
        "# Это проще понять, если взглянуть на пример. \n",
        "# Мы используем встроенную функцию Python range.\n",
        "# Функция range создаст список длинной в «n» элементов.\n",
        "range(5)"
      ],
      "execution_count": null,
      "outputs": []
    },
    {
      "cell_type": "code",
      "metadata": {
        "id": "mAOCrd8XYQUi",
        "colab_type": "code",
        "colab": {}
      },
      "source": [
        "list(range(3, 7))"
      ],
      "execution_count": null,
      "outputs": []
    },
    {
      "cell_type": "code",
      "metadata": {
        "id": "yu2o8NU_YTuG",
        "colab_type": "code",
        "colab": {}
      },
      "source": [
        "list(range(1,10,2))"
      ],
      "execution_count": null,
      "outputs": []
    },
    {
      "cell_type": "code",
      "metadata": {
        "id": "toi2QDnCafYI",
        "colab_type": "code",
        "colab": {}
      },
      "source": [
        "# Теперь посмотрим на работу цикла for вместе с функцией range()\n",
        "for i in range(57):\n",
        "  print(i**3000)"
      ],
      "execution_count": null,
      "outputs": []
    },
    {
      "cell_type": "code",
      "metadata": {
        "id": "qhDvyQHaasb4",
        "colab_type": "code",
        "colab": {
          "base_uri": "https://localhost:8080/",
          "height": 101
        },
        "outputId": "55f1049e-eafc-4d5d-e08d-440591f6d60f"
      },
      "source": [
        "# Код выше аналогичен более понятному, но более громоздокому коду ниже\n",
        "for i in [0, 1, 2, 3, 4]:\n",
        "  print(i**2)"
      ],
      "execution_count": null,
      "outputs": [
        {
          "output_type": "stream",
          "text": [
            "0\n",
            "1\n",
            "4\n",
            "9\n",
            "16\n"
          ],
          "name": "stdout"
        }
      ]
    },
    {
      "cell_type": "markdown",
      "metadata": {
        "id": "PSk-Skghd4Iq",
        "colab_type": "text"
      },
      "source": [
        "### IF - ELIF - ELSE\n",
        "Условная инструкция if-elif-else (её ещё иногда называют оператором ветвления) - основной инструмент выбора в Python. Проще говоря, она выбирает, какое действие следует выполнить, в зависимости от значения переменных в момент проверки условия\n",
        "\n",
        "**Проверка истинности**\n",
        "\n",
        "* Любое число, не равное 0, или непустой объект - истина.\n",
        "* Числа, равные 0, пустые объекты и значение None - ложь\n",
        "* Операции сравнения возвращают True или False\n",
        "* Логические операторы and и or возвращают истинный или ложный объект-операнд"
      ]
    },
    {
      "cell_type": "code",
      "metadata": {
        "id": "u_3v43s6kyu5",
        "colab_type": "code",
        "colab": {
          "base_uri": "https://localhost:8080/",
          "height": 50
        },
        "outputId": "adeaba98-e779-42c4-f43b-9a9e4814db2f"
      },
      "source": [
        "a = int(input())\n",
        "if a < -5:\n",
        "    print('Low')\n",
        "elif -5 <= a <= 5:\n",
        "    print('Mid')\n",
        "elif 6 <= a <= 10:\n",
        "  print(1111)\n",
        "else:\n",
        "    print('High')"
      ],
      "execution_count": null,
      "outputs": [
        {
          "output_type": "stream",
          "text": [
            "57\n",
            "High\n"
          ],
          "name": "stdout"
        }
      ]
    },
    {
      "cell_type": "markdown",
      "metadata": {
        "id": "VxhuW0WsUpHC",
        "colab_type": "text"
      },
      "source": [
        "### ЗАДАЧА 1\n",
        "\n",
        "Вывести по одной букве в каждой строке в прямом порядке записи!"
      ]
    },
    {
      "cell_type": "code",
      "metadata": {
        "id": "pHUMfYnEUv85",
        "colab_type": "code",
        "colab": {
          "base_uri": "https://localhost:8080/",
          "height": 353
        },
        "outputId": "b51da5fd-f828-4a49-84a2-2e37439bb299"
      },
      "source": [
        "for i in range(0,len(text)):\n",
        "  # print(i)\n",
        "  print(text[i])"
      ],
      "execution_count": null,
      "outputs": [
        {
          "output_type": "stream",
          "text": [
            "I\n",
            " \n",
            "l\n",
            "i\n",
            "k\n",
            "e\n",
            " \n",
            "D\n",
            "a\n",
            "t\n",
            "a\n",
            " \n",
            "S\n",
            "c\n",
            "i\n",
            "e\n",
            "n\n",
            "c\n",
            "e\n",
            "!\n"
          ],
          "name": "stdout"
        }
      ]
    },
    {
      "cell_type": "markdown",
      "metadata": {
        "id": "k_-vvtd60wZb",
        "colab_type": "text"
      },
      "source": [
        "### ЗАДАЧА 2\n",
        "\n",
        "Вывести по одной букве в каждой строке в обратном порядке записи!"
      ]
    },
    {
      "cell_type": "code",
      "metadata": {
        "id": "REx2fIOc0zQE",
        "colab_type": "code",
        "colab": {
          "base_uri": "https://localhost:8080/",
          "height": 353
        },
        "outputId": "bdf1968a-c39f-496e-97d0-af1940366beb"
      },
      "source": [
        "for i in range(1,len(text)+1):\n",
        "  print(text[-i])"
      ],
      "execution_count": null,
      "outputs": [
        {
          "output_type": "stream",
          "text": [
            "!\n",
            "e\n",
            "c\n",
            "n\n",
            "e\n",
            "i\n",
            "c\n",
            "S\n",
            " \n",
            "a\n",
            "t\n",
            "a\n",
            "D\n",
            " \n",
            "e\n",
            "k\n",
            "i\n",
            "l\n",
            " \n",
            "I\n"
          ],
          "name": "stdout"
        }
      ]
    },
    {
      "cell_type": "markdown",
      "metadata": {
        "id": "Tl4rToxG2efk",
        "colab_type": "text"
      },
      "source": [
        "### ЗАДАЧА 3\n",
        "\n",
        "Вывести в строке i первые i символов текста объекта str!\n",
        "\n",
        "**Пример**\n",
        "\n",
        "text = 'data'\n",
        "\n",
        "Результат работы программы:\n",
        "\n",
        "d\n",
        "\n",
        "da\n",
        "\n",
        "dat\n",
        "\n",
        "data"
      ]
    },
    {
      "cell_type": "code",
      "metadata": {
        "id": "XhZmILGi2kbc",
        "colab_type": "code",
        "colab": {}
      },
      "source": [
        "for i in range(len(text)):\n",
        "  print(text[:i])"
      ],
      "execution_count": null,
      "outputs": []
    },
    {
      "cell_type": "markdown",
      "metadata": {
        "id": "e_OfBRkVUx_l",
        "colab_type": "text"
      },
      "source": [
        "## Структуры данных"
      ]
    },
    {
      "cell_type": "markdown",
      "metadata": {
        "id": "2bE3KuubAKql",
        "colab_type": "text"
      },
      "source": [
        "### Списки. list.\n",
        "\n",
        "Списки Python схожи с массивами в других языках.\n",
        "вы можете создать список при помощи квадратных скобок, или при помощи встроенного инструмента Python – list."
      ]
    },
    {
      "cell_type": "code",
      "metadata": {
        "id": "nYsYGDmo_llo",
        "colab_type": "code",
        "colab": {}
      },
      "source": [
        "my_list = []\n",
        "my_list = list()"
      ],
      "execution_count": null,
      "outputs": []
    },
    {
      "cell_type": "markdown",
      "metadata": {
        "id": "JhVGYAdI_wik",
        "colab_type": "text"
      },
      "source": [
        "Список состоит из таких элементов, как строки, цифры, объекты и смеси типов. Давайте взглянем на несколько примеров:"
      ]
    },
    {
      "cell_type": "code",
      "metadata": {
        "id": "u9J14DMZ_xey",
        "colab_type": "code",
        "colab": {}
      },
      "source": [
        "my_list = [1,2,3,4,5,6,17,51,23]\n",
        "my_list2 = [\"a\", \"b\", \"c\"]\n",
        "my_list3 = [\"a\", 1, \"Python\", 5]"
      ],
      "execution_count": null,
      "outputs": []
    },
    {
      "cell_type": "code",
      "metadata": {
        "id": "JOykdD-V_5A6",
        "colab_type": "code",
        "colab": {}
      },
      "source": [
        "# список списков\n",
        "my_nested_list = [my_list, my_list2]"
      ],
      "execution_count": null,
      "outputs": []
    },
    {
      "cell_type": "markdown",
      "metadata": {
        "id": "voijkD_fAK7N",
        "colab_type": "text"
      },
      "source": [
        "В какой-то момент вам может понадобиться скомбинировать два списка вместе. Первый способ сделать это – при помощи метода extend:"
      ]
    },
    {
      "cell_type": "code",
      "metadata": {
        "id": "YYVcRFic_7Tu",
        "colab_type": "code",
        "colab": {}
      },
      "source": [
        "combo_list = [1]\n",
        "one_list = [4, 5]\n",
        "a = combo_list.extend(one_list)"
      ],
      "execution_count": null,
      "outputs": []
    },
    {
      "cell_type": "code",
      "metadata": {
        "id": "p-G-lHv2ATYD",
        "colab_type": "code",
        "colab": {}
      },
      "source": [
        "# проще будет просто добавить два списка вместе\n",
        "my_list = [1,2,3,4,5,6,17,51,23]\n",
        "my_list2 = [\"a\", \"b\", \"c\"]\n",
        " \n",
        "combo_list = my_list + my_list2"
      ],
      "execution_count": null,
      "outputs": []
    },
    {
      "cell_type": "markdown",
      "metadata": {
        "id": "m-4gzJTfAnLT",
        "colab_type": "text"
      },
      "source": [
        "**Сортировка списков**"
      ]
    },
    {
      "cell_type": "code",
      "metadata": {
        "id": "4ehCIwPXBRm2",
        "colab_type": "code",
        "colab": {}
      },
      "source": [
        "alpha_list = [34, 23, 67, 100, 88, 2]\n",
        "alpha_list.sort()"
      ],
      "execution_count": null,
      "outputs": []
    },
    {
      "cell_type": "code",
      "metadata": {
        "id": "ud5bbo4VBe5C",
        "colab_type": "code",
        "colab": {}
      },
      "source": [
        "alpha_list = [34, 23, 67, 100, 88, 2]\n",
        "sorted_list = alpha_list.sort()\n",
        " \n",
        "print(sorted_list)"
      ],
      "execution_count": null,
      "outputs": []
    },
    {
      "cell_type": "markdown",
      "metadata": {
        "id": "AGEZP0NKBspS",
        "colab_type": "text"
      },
      "source": [
        "В этом примере мы попытались назначить сортированный список переменной. Однако, когда вы вызываете метод sort() в списке, он сортирует список на месте. Так что если вы попробуете назначить результат другой переменной, тогда возникнет объект None, который аналогичен объекту Null в других языках. Таким образом, когда вам нужно отсортировать что-нибудь, просто помните, что вы сортируете на месте, и вы не можете назначить объект другой переменной."
      ]
    },
    {
      "cell_type": "markdown",
      "metadata": {
        "id": "Lm8_M8fbBwR-",
        "colab_type": "text"
      },
      "source": [
        "### Кортежи. tuple.\n",
        "Кортеж похож на список, но вы создаете его с круглыми скобками, вместо квадратных. Вы также можете использовать встроенный инструмент для создания кортежей. Разница в том, что кортеж неизменный, в то время как список может меняться. Давайте взглянем на несколько примеров:"
      ]
    },
    {
      "cell_type": "code",
      "metadata": {
        "id": "jEUpD5tMCDTM",
        "colab_type": "code",
        "colab": {}
      },
      "source": [
        "my_tuple = (1, 2, 3, 4, 5)\n",
        "a = my_tuple[0:3]\n",
        "print(a)\n",
        " \n",
        "another_tuple = tuple()\n",
        "abc = tuple([1, 2, 3])"
      ],
      "execution_count": null,
      "outputs": []
    },
    {
      "cell_type": "markdown",
      "metadata": {
        "id": "JlMvLSGLCR3a",
        "colab_type": "text"
      },
      "source": [
        "Данный код демонстрирует способ создания кортежа с пятью элементами. Также он говорит нам о том, что мы можете делать нарезку кортежей. Однако, вы не можете сортировать кортеж!"
      ]
    },
    {
      "cell_type": "markdown",
      "metadata": {
        "id": "6-DI0kb6C1uG",
        "colab_type": "text"
      },
      "source": [
        "### Множества. set.\n",
        "\n",
        "Множества в Python – это структура данных, которые содержат неупорядоченные элементы. Элементы также не является индексированным. Как и список, множество позволяет внесение и удаление элементов. Однако, есть ряд особенных характеристик, которые определяют и отделяют множество от других структур данных:\n",
        "\n",
        "Множество не содержит дубликаты элементов;\n",
        "Элементы множества являются неизменными (их нельзя менять), однако само по себе множество является изменяемым, и его можно менять;\n",
        "Так как элементы не индексируются, множества не поддерживают никаких операций среза и индексирования."
      ]
    },
    {
      "cell_type": "code",
      "metadata": {
        "id": "-Larw5XEFIJx",
        "colab_type": "code",
        "colab": {}
      },
      "source": [
        "num_set = {1, 2, 3, 4, 5, 6, 6}  \n",
        "num_set"
      ],
      "execution_count": null,
      "outputs": []
    },
    {
      "cell_type": "code",
      "metadata": {
        "id": "6zUt8TI3FRwM",
        "colab_type": "code",
        "colab": {}
      },
      "source": [
        "string_set = {\"Nicholas\", \"Michelle\", \"John\", \"Mercy\"}  \n",
        "string_set"
      ],
      "execution_count": null,
      "outputs": []
    },
    {
      "cell_type": "code",
      "metadata": {
        "id": "usnCp3EkFYLc",
        "colab_type": "code",
        "colab": {}
      },
      "source": [
        "mixed_set = {2.0, \"Nicholas\", (1, 2, 3)}  \n",
        "mixed_set"
      ],
      "execution_count": null,
      "outputs": []
    },
    {
      "cell_type": "code",
      "metadata": {
        "id": "cV30O-oJGQ1p",
        "colab_type": "code",
        "colab": {}
      },
      "source": [
        "# мы также можем создать множество из списков\n",
        "num_set = set([1, 2, 3, 4, 5, 6])  \n",
        "num_set"
      ],
      "execution_count": null,
      "outputs": []
    },
    {
      "cell_type": "code",
      "metadata": {
        "id": "wiyAyBvJGtL9",
        "colab_type": "code",
        "colab": {}
      },
      "source": [
        "x = {}\n",
        "type(x)"
      ],
      "execution_count": null,
      "outputs": []
    },
    {
      "cell_type": "markdown",
      "metadata": {
        "id": "GEzqD6W9Gv8-",
        "colab_type": "text"
      },
      "source": [
        "Создание пустого множества подразумевает определенную хитрость. Если вы используете пустые фигурные скобки {} в Python, вы скорее создадите пустой словарь, а не множество.\n",
        "Чтобы создать пустое множество в Python, мы должны использовать функцию set() без передачи какого-либо значения в параметрах, как показано ниже:"
      ]
    },
    {
      "cell_type": "code",
      "metadata": {
        "id": "ylRZYmbaG6-r",
        "colab_type": "code",
        "colab": {}
      },
      "source": [
        "x = set()  \n",
        "type(x)"
      ],
      "execution_count": null,
      "outputs": []
    },
    {
      "cell_type": "code",
      "metadata": {
        "id": "Qv8lCZa-HcWk",
        "colab_type": "code",
        "colab": {}
      },
      "source": [
        "# доступ к элементам множеств\n",
        "months = set([\"Jan\", \"Feb\", \"March\", \"Apr\", \"May\", \"June\", \"July\", \"Aug\", \"Sep\", \"Oct\", \"Nov\", \"Dec\"])\n",
        " \n",
        "for m in months:  \n",
        "    print(m)"
      ],
      "execution_count": null,
      "outputs": []
    },
    {
      "cell_type": "markdown",
      "metadata": {
        "id": "QFhfMgmfIvmD",
        "colab_type": "text"
      },
      "source": [
        "Мы также можем проверить наличие элемента во множестве при помощи in, как показано ниже:"
      ]
    },
    {
      "cell_type": "code",
      "metadata": {
        "id": "l5gUWkeHIdJR",
        "colab_type": "code",
        "colab": {}
      },
      "source": [
        "\"May\" in months"
      ],
      "execution_count": null,
      "outputs": []
    },
    {
      "cell_type": "markdown",
      "metadata": {
        "id": "q5bgBhWrJf45",
        "colab_type": "text"
      },
      "source": [
        "**Добавление элементов во множество**\n",
        "\n",
        "Python позволяет нам вносить новые элементы во множество при помощи функции add()."
      ]
    },
    {
      "cell_type": "code",
      "metadata": {
        "id": "tvPRcKKQJv6a",
        "colab_type": "code",
        "colab": {}
      },
      "source": [
        "months.add(\"Feb\")\n",
        "months"
      ],
      "execution_count": null,
      "outputs": []
    },
    {
      "cell_type": "markdown",
      "metadata": {
        "id": "bx75GxCWKQPY",
        "colab_type": "text"
      },
      "source": [
        "### Словари. dict.\n",
        "\n",
        "Словарь Python, по большей части, представляет собой хэш-таблицу. В некоторых языках, словари могут упоминаться как ассоциативная память, или ассоциативные массивы. Они индексируются при помощи ключей, которые могут быть любого неизменяемого типа. Например, строка или число могут быть ключом. Вам обязательно стоит запомнить тот факт, что словарь – это неупорядоченный набор пар ключ:значение, и ключи обязательно должны быть уникальными."
      ]
    },
    {
      "cell_type": "code",
      "metadata": {
        "id": "RJev6ht1y6Id",
        "colab_type": "code",
        "colab": {}
      },
      "source": [
        "my_dict = {}\n",
        "another_dict = dict()\n",
        " \n",
        "my_other_dict = {\"one\":1, \"two\":2, \"three\":3}\n",
        "print(my_other_dict)"
      ],
      "execution_count": null,
      "outputs": []
    },
    {
      "cell_type": "code",
      "metadata": {
        "id": "dnNiZRgpzE2J",
        "colab_type": "code",
        "colab": {}
      },
      "source": [
        "# Вы можете получить список ключей путем вызова метода keys()\n",
        "my_other_dict.keys()"
      ],
      "execution_count": null,
      "outputs": []
    },
    {
      "cell_type": "code",
      "metadata": {
        "id": "hivG4JDIzVjp",
        "colab_type": "code",
        "colab": {}
      },
      "source": [
        "# добавим пару ключ-значение в непустой словарь\n",
        "my_other_dict['four'] = 4\n",
        "my_other_dict"
      ],
      "execution_count": null,
      "outputs": []
    },
    {
      "cell_type": "code",
      "metadata": {
        "id": "SM7-tkpMztHd",
        "colab_type": "code",
        "colab": {}
      },
      "source": [
        "'five' in my_other_dict"
      ],
      "execution_count": null,
      "outputs": []
    },
    {
      "cell_type": "code",
      "metadata": {
        "id": "LqFON-Ehz-pK",
        "colab_type": "code",
        "colab": {}
      },
      "source": [
        "# вывод всех значений\n",
        "my_other_dict.values()"
      ],
      "execution_count": null,
      "outputs": []
    },
    {
      "cell_type": "markdown",
      "metadata": {
        "id": "klP58HLF0bSI",
        "colab_type": "text"
      },
      "source": [
        "### Задача 4\n",
        "\n",
        "Найти индекс определенного числа в объекте list."
      ]
    },
    {
      "cell_type": "code",
      "metadata": {
        "id": "sLQRijtP0tLb",
        "colab_type": "code",
        "colab": {}
      },
      "source": [
        "# Найдем индекс определенного числа в list\n",
        "a = 23\n",
        "for i in range(len(my_list)):\n",
        "  if my_list[i] == a:\n",
        "    print(i)"
      ],
      "execution_count": null,
      "outputs": []
    },
    {
      "cell_type": "code",
      "metadata": {
        "id": "P7dPtBF_0xPc",
        "colab_type": "code",
        "colab": {}
      },
      "source": [
        "# Все уже изобретено до нас...\n",
        "my_list.index(a)"
      ],
      "execution_count": null,
      "outputs": []
    },
    {
      "cell_type": "markdown",
      "metadata": {
        "id": "teTscjRI0-qT",
        "colab_type": "text"
      },
      "source": [
        "### Задача 5\n",
        "\n",
        "Найти максимальное (минимальное) значение в dict.\n",
        "\n",
        "name_age = {'Дмитрий': 28,'Матвей2': 17, \"Иван\" : 14,'Алексей': 16, 'Матвей1': 34, 'Даниил':14}\n"
      ]
    },
    {
      "cell_type": "code",
      "metadata": {
        "id": "ei8E_dkq1D9s",
        "colab_type": "code",
        "colab": {}
      },
      "source": [
        "name_age = {'Дмитрий': 28,'Матвей2': 17, \"Иван\" : 14,'Алексей': 16, 'Матвей1': 34, 'Даниил':14}\n",
        "max_age = 0\n",
        "for name in name_age.keys():\n",
        "  if name_age[name]> max_age:\n",
        "    max_age = name_age[name]\n",
        "max_age"
      ],
      "execution_count": null,
      "outputs": []
    },
    {
      "cell_type": "markdown",
      "metadata": {
        "id": "0pfTq_Oy1n3b",
        "colab_type": "text"
      },
      "source": [
        "### Задача 6\n",
        "\n",
        "Найти индекс максимального (минимального) значения в list.\n",
        "\n",
        "age = [28,17,14,16,34,54]"
      ]
    },
    {
      "cell_type": "code",
      "metadata": {
        "id": "VZ4xjoyl2_uA",
        "colab_type": "code",
        "colab": {}
      },
      "source": [
        "age = [28,17,14,16,34,54]\n",
        "max_age_index = 0 # в начале считаем, что максимальный элемент лежит под номером 0\n",
        "for index in range(len(age)):\n",
        "  if age[index] > age[max_age_index]:\n",
        "    max_age_index = index\n",
        "print(max_age_index)"
      ],
      "execution_count": null,
      "outputs": []
    },
    {
      "cell_type": "markdown",
      "metadata": {
        "id": "Nlw5v6IJTvR1",
        "colab_type": "text"
      },
      "source": [
        "## Функции и их аргументы\n",
        "\n",
        "Функция в python - объект, принимающий аргументы и возвращающий значение. Обычно функция определяется с помощью инструкции def."
      ]
    },
    {
      "cell_type": "markdown",
      "metadata": {
        "id": "b10tT1H96c7c",
        "colab_type": "text"
      },
      "source": [
        "### Именные функции, инструкция def"
      ]
    },
    {
      "cell_type": "code",
      "metadata": {
        "id": "FRe2EVOxT4ec",
        "colab_type": "code",
        "colab": {}
      },
      "source": [
        "# определим простейшую функцию\n",
        "def add(x, y):\n",
        "    return x + y"
      ],
      "execution_count": null,
      "outputs": []
    },
    {
      "cell_type": "markdown",
      "metadata": {
        "id": "sJs_W3rgtpzC",
        "colab_type": "text"
      },
      "source": [
        "\n",
        "Инструкция **return** говорит, что нужно вернуть значение. В нашем случае функция возвращает сумму x и y.\n",
        "\n",
        "Теперь мы ее можем вызвать:"
      ]
    },
    {
      "cell_type": "code",
      "metadata": {
        "id": "Zx2zVqwv6Bzi",
        "colab_type": "code",
        "colab": {}
      },
      "source": [
        "add(1, 10)"
      ],
      "execution_count": null,
      "outputs": []
    },
    {
      "cell_type": "code",
      "metadata": {
        "id": "eX1JlRUZ6M2b",
        "colab_type": "code",
        "colab": {}
      },
      "source": [
        "add('abc', 'def')"
      ],
      "execution_count": null,
      "outputs": []
    },
    {
      "cell_type": "markdown",
      "metadata": {
        "id": "lFwJLtiU6YlN",
        "colab_type": "text"
      },
      "source": [
        "Функция может и не заканчиваться инструкцией return, при этом функция вернет значение None."
      ]
    },
    {
      "cell_type": "markdown",
      "metadata": {
        "id": "XKrr3OPn6tgA",
        "colab_type": "text"
      },
      "source": [
        "### Аргументы функции\n",
        "\n",
        "Функция может принимать произвольное количество аргументов или не принимать их вовсе. Также распространены функции с произвольным числом аргументов, функции с позиционными и именованными аргументами, обязательными и необязательными."
      ]
    },
    {
      "cell_type": "code",
      "metadata": {
        "id": "tas4fgRw60nI",
        "colab_type": "code",
        "colab": {}
      },
      "source": [
        "def func(a, b, c=2): # c - необязательный аргумент\n",
        "    return a + b + c\n",
        "\n",
        "print(func(1, 2))\n",
        "print(func(1, 2, 3))\n",
        "print(func(a=1, b=3))"
      ],
      "execution_count": null,
      "outputs": []
    },
    {
      "cell_type": "code",
      "metadata": {
        "id": "fmQ-0Jtd7I5U",
        "colab_type": "code",
        "colab": {}
      },
      "source": [
        "func(a=3, c=6)"
      ],
      "execution_count": null,
      "outputs": []
    },
    {
      "cell_type": "markdown",
      "metadata": {
        "id": "6x_YjeWQ-xBd",
        "colab_type": "text"
      },
      "source": [
        "Функция также может принимать переменное количество позиционных аргументов, тогда перед именем ставится *:"
      ]
    },
    {
      "cell_type": "code",
      "metadata": {
        "id": "Gvtr7Bch-xy2",
        "colab_type": "code",
        "colab": {}
      },
      "source": [
        "def func(*args):\n",
        "    return args\n",
        "\n",
        "func(1, 2, 3, 'abc')"
      ],
      "execution_count": null,
      "outputs": []
    },
    {
      "cell_type": "markdown",
      "metadata": {
        "id": "KuNUByQ1-97B",
        "colab_type": "text"
      },
      "source": [
        "args - это кортеж из всех переданных аргументов функции, и с переменной можно работать также, как и с кортежем.\n",
        "\n",
        "Функция может принимать и произвольное число именованных аргументов, тогда перед именем ставится **:\n"
      ]
    },
    {
      "cell_type": "code",
      "metadata": {
        "id": "7RUm7Vbs-_uu",
        "colab_type": "code",
        "colab": {}
      },
      "source": [
        "def func(**kwargs):\n",
        "    return kwargs\n",
        "\n",
        "func(a=1, b=2, c=3)"
      ],
      "execution_count": null,
      "outputs": []
    },
    {
      "cell_type": "markdown",
      "metadata": {
        "id": "l3YxkCqf_EuO",
        "colab_type": "text"
      },
      "source": [
        "В переменной kwargs у нас хранится словарь, с которым мы, опять-таки, можем делать все, что нам заблагорассудится."
      ]
    },
    {
      "cell_type": "markdown",
      "metadata": {
        "id": "xKc7AxKF_NT9",
        "colab_type": "text"
      },
      "source": [
        "### Анонимные функции, инструкция lambda\n",
        "\n",
        "Анонимные функции могут содержать лишь одно выражение, но и выполняются они быстрее. Анонимные функции создаются с помощью инструкции lambda. Кроме этого, их не обязательно присваивать переменной, как делали мы инструкцией def func():"
      ]
    },
    {
      "cell_type": "code",
      "metadata": {
        "id": "OMgSIx0a_Shd",
        "colab_type": "code",
        "colab": {}
      },
      "source": [
        "func = lambda x, y: x + y\n",
        "func(1, 2)"
      ],
      "execution_count": null,
      "outputs": []
    },
    {
      "cell_type": "code",
      "metadata": {
        "id": "BJycRkXR_bWc",
        "colab_type": "code",
        "colab": {}
      },
      "source": [
        "(lambda x, y: x + y)(1, 2)"
      ],
      "execution_count": null,
      "outputs": []
    },
    {
      "cell_type": "markdown",
      "metadata": {
        "id": "c5Uv7b4_COL6",
        "colab_type": "text"
      },
      "source": [
        "### Задача 7\n",
        "\n",
        "Написать функцию, которая на вход принимает list, а возвращает максимальное значение в list"
      ]
    },
    {
      "cell_type": "code",
      "metadata": {
        "id": "4oD0Tbu2CTKh",
        "colab_type": "code",
        "colab": {}
      },
      "source": [
        "def search_max_value(arr):\n",
        "  max_element = arr[0]\n",
        "  for i in range(len(arr)):\n",
        "    if arr[i] > max_element:\n",
        "      max_element = arr[i]\n",
        "  return max_element\n",
        "\n",
        "arr = [1,25,3,4,5,12,2,12]\n",
        "\n",
        "print(search_max_value(arr))"
      ],
      "execution_count": null,
      "outputs": []
    },
    {
      "cell_type": "markdown",
      "metadata": {
        "id": "jS7LkOCUC0c3",
        "colab_type": "text"
      },
      "source": [
        "### Задача 8\n",
        "\n",
        "Написать функцию, которая на вход принимает list из слов, а возвращает самое длинное слово"
      ]
    },
    {
      "cell_type": "code",
      "metadata": {
        "id": "RCIAwkazC4up",
        "colab_type": "code",
        "colab": {}
      },
      "source": [
        "def search_max_word(arr):\n",
        "    max_word = arr[0]\n",
        "    for word in arr:\n",
        "      if len(max_word) < len(word):\n",
        "        max_word = word\n",
        "    return max_word\n",
        "\n",
        "arr = ['стул', 'математика','neural network','data science']\n",
        "\n",
        "print(search_max_word(arr))"
      ],
      "execution_count": null,
      "outputs": []
    },
    {
      "cell_type": "markdown",
      "metadata": {
        "id": "oTyxHqc_FU2Z",
        "colab_type": "text"
      },
      "source": [
        "## Задачи"
      ]
    },
    {
      "cell_type": "markdown",
      "metadata": {
        "id": "sbqUJMeKFYRT",
        "colab_type": "text"
      },
      "source": [
        "###Задача 1\n",
        "Есть список a = [1, 1, 2, 3, 5, 8, 13, 21, 34, 55, 89].\n",
        "\n",
        "Выведите все элементы, которые меньше 5."
      ]
    },
    {
      "cell_type": "code",
      "metadata": {
        "id": "F7yyrauPFbyS",
        "colab_type": "code",
        "colab": {}
      },
      "source": [
        "a = [1, 1, 2, 3, 5, 8, 13, 21, 34, 55, 89]\n",
        "for elem in a:\n",
        "    if elem < 5:\n",
        "        print(elem)"
      ],
      "execution_count": null,
      "outputs": []
    },
    {
      "cell_type": "markdown",
      "metadata": {
        "id": "KfJaxuzwFfdS",
        "colab_type": "text"
      },
      "source": [
        "###Задача 2\n",
        "Даны списки:\n",
        "\n",
        "a = [1, 1, 2, 3, 5, 8, 13, 21, 34, 55, 89]\n",
        "\n",
        "b = [1, 2, 3, 4, 5, 6, 7, 8, 9, 10, 11, 12, 13]\n",
        "\n",
        "Нужно вернуть список, который состоит из элементов, общих для этих двух списков.\n",
        "\n"
      ]
    },
    {
      "cell_type": "code",
      "metadata": {
        "id": "YvpT8bJVFxaf",
        "colab_type": "code",
        "colab": {}
      },
      "source": [
        "a = [1, 1, 2, 3, 5, 8, 13, 21, 34, 55, 89]\n",
        "\n",
        "b = [1, 2, 3, 4, 5, 6, 7, 8, 9, 10, 11, 12, 13]\n",
        "\n",
        "result = []\n",
        "for elem in a:\n",
        "    if elem in b:\n",
        "        result.append(elem)\n",
        "result"
      ],
      "execution_count": null,
      "outputs": []
    },
    {
      "cell_type": "code",
      "metadata": {
        "id": "F3njB5asF24m",
        "colab_type": "code",
        "colab": {}
      },
      "source": [
        "result = list(set(a) & set(b))\n",
        "result"
      ],
      "execution_count": null,
      "outputs": []
    },
    {
      "cell_type": "markdown",
      "metadata": {
        "id": "vqiHjKdwGYUy",
        "colab_type": "text"
      },
      "source": [
        "###Задача 3\n",
        "Напишите функцию, которая проверяет, является ли строка палиндромом. \n",
        "\n",
        "Палиндром — это слово или фраза, которые одинаково читаются слева направо и справа налево."
      ]
    },
    {
      "cell_type": "code",
      "metadata": {
        "id": "-u9S2spKGlee",
        "colab_type": "code",
        "colab": {}
      },
      "source": [
        "def is_palindrome(string):\n",
        "    return string == string[::-1]\n",
        "\n",
        "is_palindrome('abba')"
      ],
      "execution_count": null,
      "outputs": []
    }
  ]
}