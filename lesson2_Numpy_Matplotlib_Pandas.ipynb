{
  "nbformat": 4,
  "nbformat_minor": 0,
  "metadata": {
    "colab": {
      "name": "lesson2 Numpy Matplotlib Pandas.ipynb",
      "provenance": [],
      "collapsed_sections": [
        "r9QBqgUbogb-",
        "36w2G8wCorsi",
        "JFJNuvCKpOsq",
        "9EiRG8JEpYKr",
        "s7O33qyFpsII",
        "Oy2UmhsKq1KA"
      ],
      "authorship_tag": "ABX9TyOFHClR2ZWB4NErtUH8LegN",
      "include_colab_link": true
    },
    "kernelspec": {
      "name": "python3",
      "display_name": "Python 3"
    }
  },
  "cells": [
    {
      "cell_type": "markdown",
      "metadata": {
        "id": "view-in-github",
        "colab_type": "text"
      },
      "source": [
        "<a href=\"https://colab.research.google.com/github/ermilovim/neuralnets/blob/master/lesson2_Numpy_Matplotlib_Pandas.ipynb\" target=\"_parent\"><img src=\"https://colab.research.google.com/assets/colab-badge.svg\" alt=\"Open In Colab\"/></a>"
      ]
    },
    {
      "cell_type": "markdown",
      "metadata": {
        "id": "gq9AD59Rhunn"
      },
      "source": [
        "# Занятие №2. Библиотеки."
      ]
    },
    {
      "cell_type": "markdown",
      "metadata": {
        "id": "7j9OOErZimG5"
      },
      "source": [
        "Для начала вы должны понять, что библиотеки Python не очень сильно отличаются от обычных библиотек, где вы можете найти и взять интересующую вас книгу. Они схожи тем, что являются коллекциями источников информации.\n",
        "\n",
        "Библиотеки Python\n",
        "\n",
        "Тем не менее, вместо книг, вы получаете модули, которые вы можете применить для вашего процесса программирования. Все профессиональные разработчики пользуются преимуществами модулей. Если существует простой способ сделать что-то, то почему бы не воспользоваться этим?"
      ]
    },
    {
      "cell_type": "code",
      "metadata": {
        "id": "0hboBMMri8dv"
      },
      "source": [
        "#import random\n",
        "from random import randint, random"
      ],
      "execution_count": null,
      "outputs": []
    },
    {
      "cell_type": "code",
      "metadata": {
        "id": "upwKTIM3jAVt",
        "colab": {
          "base_uri": "https://localhost:8080/"
        },
        "outputId": "cf5e39e1-1e7a-4dd6-8888-89b32720e94b"
      },
      "source": [
        "randint(5, 25)"
      ],
      "execution_count": null,
      "outputs": [
        {
          "output_type": "execute_result",
          "data": {
            "text/plain": [
              "18"
            ]
          },
          "metadata": {},
          "execution_count": 6
        }
      ]
    },
    {
      "cell_type": "markdown",
      "metadata": {
        "id": "glXQ4BCWiAh4"
      },
      "source": [
        "## [Numpy](https://pythonworld.ru/numpy)\n",
        "\n",
        "NumPy — это библиотека языка Python, добавляющая поддержку больших многомерных массивов и матриц, вместе с большой библиотекой высокоуровневых (и очень быстрых) математических функций для операций с этими массивами.\n",
        "\n",
        "Основным объектом NumPy является однородный многомерный массив (в numpy называется numpy.ndarray). Это многомерный массив элементов (обычно чисел), одного типа."
      ]
    },
    {
      "cell_type": "code",
      "metadata": {
        "id": "ty1uXlq3mEsX"
      },
      "source": [
        "import numpy as np"
      ],
      "execution_count": null,
      "outputs": []
    },
    {
      "cell_type": "markdown",
      "metadata": {
        "id": "-VVOH4xsl2AQ"
      },
      "source": [
        "### Создание массивов\n",
        "\n",
        "В NumPy существует много способов создать массив. Один из наиболее простых - создать массив из обычных списков или кортежей Python, используя функцию numpy.array() \n",
        "\n",
        "(запомните: array - функция, создающая объект типа ndarray):\n"
      ]
    },
    {
      "cell_type": "code",
      "metadata": {
        "id": "edWNEHDrmBGw",
        "colab": {
          "base_uri": "https://localhost:8080/"
        },
        "outputId": "7de6f942-a554-40b3-d6dc-bf529814c803"
      },
      "source": [
        "a = np.array([1, 6, 3, 4])\n",
        "a"
      ],
      "execution_count": null,
      "outputs": [
        {
          "output_type": "execute_result",
          "data": {
            "text/plain": [
              "array([1, 6, 3, 4])"
            ]
          },
          "metadata": {},
          "execution_count": 3
        }
      ]
    },
    {
      "cell_type": "code",
      "metadata": {
        "colab": {
          "base_uri": "https://localhost:8080/"
        },
        "id": "ngqKDmnko66D",
        "outputId": "252ae4d6-12d0-4fca-95fd-ef3f847acc33"
      },
      "source": [
        "# вектор можно \"развернуть\"\n",
        "a.reshape(2,2)"
      ],
      "execution_count": null,
      "outputs": [
        {
          "output_type": "execute_result",
          "data": {
            "text/plain": [
              "array([[1, 6],\n",
              "       [3, 4]])"
            ]
          },
          "metadata": {},
          "execution_count": 7
        }
      ]
    },
    {
      "cell_type": "code",
      "metadata": {
        "id": "81J17DCKmKVY",
        "colab": {
          "base_uri": "https://localhost:8080/"
        },
        "outputId": "ff2cb718-483c-4216-d756-3cef365fba24"
      },
      "source": [
        "type(a)"
      ],
      "execution_count": null,
      "outputs": [
        {
          "output_type": "execute_result",
          "data": {
            "text/plain": [
              "numpy.ndarray"
            ]
          },
          "metadata": {},
          "execution_count": 4
        }
      ]
    },
    {
      "cell_type": "code",
      "metadata": {
        "colab": {
          "base_uri": "https://localhost:8080/"
        },
        "id": "6Q7SkmOkp0j5",
        "outputId": "4f58ad72-0656-49f0-e6ee-bd5e127c8663"
      },
      "source": [
        "# вектор из случайных значений произвольной длины\n",
        "np.random.random(5)"
      ],
      "execution_count": null,
      "outputs": [
        {
          "output_type": "execute_result",
          "data": {
            "text/plain": [
              "array([0.32522365, 0.89071188, 0.15306774, 0.64339237, 0.57325068])"
            ]
          },
          "metadata": {},
          "execution_count": 37
        }
      ]
    },
    {
      "cell_type": "markdown",
      "metadata": {
        "id": "Z8L-uB56mUG0"
      },
      "source": [
        "Функция array() трансформирует вложенные последовательности в многомерные массивы. Тип элементов массива зависит от типа элементов исходной последовательности (но можно и переопределить его в момент создания)."
      ]
    },
    {
      "cell_type": "code",
      "metadata": {
        "id": "9i2jE-HkmVTL",
        "colab": {
          "base_uri": "https://localhost:8080/"
        },
        "outputId": "20dc1352-088a-41c5-d5b1-a583529bd892"
      },
      "source": [
        "b = np.array([[1.5, 2, 3], [4, 5, 6]])\n",
        "b"
      ],
      "execution_count": null,
      "outputs": [
        {
          "output_type": "execute_result",
          "data": {
            "text/plain": [
              "array([[1.5, 2. , 3. ],\n",
              "       [4. , 5. , 6. ]])"
            ]
          },
          "metadata": {},
          "execution_count": 24
        }
      ]
    },
    {
      "cell_type": "code",
      "metadata": {
        "id": "-38x_jVmmjRd",
        "colab": {
          "base_uri": "https://localhost:8080/"
        },
        "outputId": "e3c1df11-369b-4404-d071-2ca3923bf9ce"
      },
      "source": [
        "# Функция eye() создаёт единичную матрицу (двумерный массив)\n",
        "\n",
        "np.eye(4)"
      ],
      "execution_count": null,
      "outputs": [
        {
          "output_type": "execute_result",
          "data": {
            "text/plain": [
              "array([[1., 0., 0., 0.],\n",
              "       [0., 1., 0., 0.],\n",
              "       [0., 0., 1., 0.],\n",
              "       [0., 0., 0., 1.]])"
            ]
          },
          "metadata": {},
          "execution_count": 25
        }
      ]
    },
    {
      "cell_type": "markdown",
      "metadata": {
        "id": "rkkXTHhnmtNX"
      },
      "source": [
        "Для создания последовательностей чисел, в NumPy имеется функция arange(), аналогичная встроенной в Python range(), только вместо списков она возвращает массивы, и принимает не только целые значения:"
      ]
    },
    {
      "cell_type": "code",
      "metadata": {
        "id": "yMZaZgpRmvVk",
        "colab": {
          "base_uri": "https://localhost:8080/"
        },
        "outputId": "e77a15c1-3731-4265-8530-0e040a45e159"
      },
      "source": [
        "np.arange(10, 30, 5)"
      ],
      "execution_count": null,
      "outputs": [
        {
          "output_type": "execute_result",
          "data": {
            "text/plain": [
              "array([10, 15, 20, 25])"
            ]
          },
          "metadata": {},
          "execution_count": 26
        }
      ]
    },
    {
      "cell_type": "code",
      "metadata": {
        "id": "_34jDhegm0tq",
        "colab": {
          "base_uri": "https://localhost:8080/"
        },
        "outputId": "d982387f-5ab9-43cc-9806-159411e4f27d"
      },
      "source": [
        "np.arange(0, 1, 0.1)"
      ],
      "execution_count": null,
      "outputs": [
        {
          "output_type": "execute_result",
          "data": {
            "text/plain": [
              "array([0. , 0.1, 0.2, 0.3, 0.4, 0.5, 0.6, 0.7, 0.8, 0.9])"
            ]
          },
          "metadata": {},
          "execution_count": 27
        }
      ]
    },
    {
      "cell_type": "markdown",
      "metadata": {
        "id": "ztUWBefgmtFy"
      },
      "source": [
        "Вообще, при использовании arange() с аргументами типа float, сложно быть уверенным в том, сколько элементов будет получено (из-за ограничения точности чисел с плавающей запятой). Поэтому, в таких случаях обычно лучше использовать функцию linspace(), которая вместо шага в качестве одного из аргументов принимает число, равное количеству нужных элементов:"
      ]
    },
    {
      "cell_type": "code",
      "metadata": {
        "id": "hIQLm-cdm54O",
        "colab": {
          "base_uri": "https://localhost:8080/"
        },
        "outputId": "d3cef1c1-8127-48e3-fe8d-30d24257548e"
      },
      "source": [
        "b = np.linspace(0, 2, 7)\n",
        "b"
      ],
      "execution_count": null,
      "outputs": [
        {
          "output_type": "execute_result",
          "data": {
            "text/plain": [
              "array([0.        , 0.33333333, 0.66666667, 1.        , 1.33333333,\n",
              "       1.66666667, 2.        ])"
            ]
          },
          "metadata": {},
          "execution_count": 8
        }
      ]
    },
    {
      "cell_type": "code",
      "metadata": {
        "colab": {
          "base_uri": "https://localhost:8080/"
        },
        "id": "fQCkppFrqDfk",
        "outputId": "405a2467-47ff-45b2-8bdd-c195e6e1accb"
      },
      "source": [
        "a.mean() # находит среднее значение"
      ],
      "execution_count": null,
      "outputs": [
        {
          "output_type": "execute_result",
          "data": {
            "text/plain": [
              "3.5"
            ]
          },
          "metadata": {},
          "execution_count": 32
        }
      ]
    },
    {
      "cell_type": "markdown",
      "metadata": {
        "id": "xwYWZc27nCNy"
      },
      "source": [
        "### Печать массивов\n",
        "\n",
        "Если массив слишком большой, чтобы его печатать, NumPy автоматически скрывает центральную часть массива и выводит только его уголки.\n",
        "\n"
      ]
    },
    {
      "cell_type": "code",
      "metadata": {
        "id": "BfuzG6uknOnu",
        "colab": {
          "base_uri": "https://localhost:8080/"
        },
        "outputId": "498e1b21-e01e-4f34-8a03-ea8a208fe177"
      },
      "source": [
        "np.arange(0, 3000, 1)"
      ],
      "execution_count": null,
      "outputs": [
        {
          "output_type": "execute_result",
          "data": {
            "text/plain": [
              "array([   0,    1,    2, ..., 2997, 2998, 2999])"
            ]
          },
          "metadata": {},
          "execution_count": 35
        }
      ]
    },
    {
      "cell_type": "markdown",
      "metadata": {
        "id": "8c0XZbBbnUzj"
      },
      "source": [
        "Если вам действительно нужно увидеть весь массив, используйте функцию numpy.set_printoptions.\n",
        "\n",
        "И вообще, с помощью этой функции можно настроить печать массивов \"под себя\". Функция numpy.set_printoptions принимает несколько аргументов:\n",
        "\n",
        "precision : количество отображаемых цифр после запятой (по умолчанию 8).\n",
        "\n",
        "threshold : количество элементов в массиве, вызывающее обрезание элементов (по умолчанию 1000).\n",
        "\n",
        "edgeitems : количество элементов в начале и в конце каждой размерности массива (по умолчанию 3).\n",
        "\n",
        "linewidth : количество символов в строке, после которых осуществляется перенос (по умолчанию 75).\n",
        "\n",
        "suppress : если True, не печатает маленькие значения в scientific notation (по умолчанию False).\n",
        "\n",
        "nanstr : строковое представление NaN (по умолчанию 'nan').\n",
        "\n",
        "infstr : строковое представление inf (по умолчанию 'inf').\n",
        "\n",
        "formatter : позволяет более тонко управлять печатью массивов. Здесь я его рассматривать не буду, можете почитать здесь (на английском)."
      ]
    },
    {
      "cell_type": "markdown",
      "metadata": {
        "id": "r9QBqgUbogb-"
      },
      "source": [
        "#### Задача 1\n",
        "Создать вектор со значениями от 10 до 49"
      ]
    },
    {
      "cell_type": "code",
      "metadata": {
        "id": "sRl3Ukv8olQr",
        "colab": {
          "base_uri": "https://localhost:8080/"
        },
        "outputId": "67269f19-f61a-4b4d-a735-d3d3ae53f034"
      },
      "source": [
        "Z = np.arange(10,50)\n",
        "print(Z)"
      ],
      "execution_count": null,
      "outputs": [
        {
          "output_type": "stream",
          "name": "stdout",
          "text": [
            "[10 11 12 13 14 15 16 17 18 19 20 21 22 23 24 25 26 27 28 29 30 31 32 33\n",
            " 34 35 36 37 38 39 40 41 42 43 44 45 46 47 48 49]\n"
          ]
        }
      ]
    },
    {
      "cell_type": "markdown",
      "metadata": {
        "id": "36w2G8wCorsi"
      },
      "source": [
        "#### Задача 2\n",
        "\n",
        "Создать матрицу (двумерный массив) 3x3 со значениями от 0 до 8"
      ]
    },
    {
      "cell_type": "code",
      "metadata": {
        "id": "GzWE4pT4pJ5W",
        "colab": {
          "base_uri": "https://localhost:8080/"
        },
        "outputId": "bca120ab-5605-41a2-eb7f-41138a960a10"
      },
      "source": [
        "Z = np.arange(9).reshape(3,3)\n",
        "print(Z)"
      ],
      "execution_count": null,
      "outputs": [
        {
          "output_type": "stream",
          "name": "stdout",
          "text": [
            "[[0 1 2]\n",
            " [3 4 5]\n",
            " [6 7 8]]\n"
          ]
        }
      ]
    },
    {
      "cell_type": "markdown",
      "metadata": {
        "id": "JFJNuvCKpOsq"
      },
      "source": [
        "#### Задача 3\n",
        "\n",
        "Найти индексы ненулевых элементов в [1,2,0,0,4,0]"
      ]
    },
    {
      "cell_type": "code",
      "metadata": {
        "id": "kkzxmZDnpUIO",
        "colab": {
          "base_uri": "https://localhost:8080/"
        },
        "outputId": "25bfb726-39da-4c4d-c886-b136ad73918e"
      },
      "source": [
        "nz = np.nonzero([1,2,0,0,4,0])\n",
        "print(nz)"
      ],
      "execution_count": null,
      "outputs": [
        {
          "output_type": "stream",
          "name": "stdout",
          "text": [
            "(array([0, 1, 4]),)\n"
          ]
        }
      ]
    },
    {
      "cell_type": "markdown",
      "metadata": {
        "id": "9EiRG8JEpYKr"
      },
      "source": [
        "#### Задача 4\n",
        "\n",
        "Создать единичную матрицу 3х3"
      ]
    },
    {
      "cell_type": "code",
      "metadata": {
        "id": "K02SDv0wpgBc"
      },
      "source": [
        "Z = np.eye(3)\n",
        "print(Z)"
      ],
      "execution_count": null,
      "outputs": []
    },
    {
      "cell_type": "markdown",
      "metadata": {
        "id": "s7O33qyFpsII"
      },
      "source": [
        "#### Задача 5\n",
        "\n",
        "Создать случайный вектор размера 30 и найти среднее значение всех элементов"
      ]
    },
    {
      "cell_type": "code",
      "metadata": {
        "id": "XgVp_nCGqx6C"
      },
      "source": [
        "Z = np.random.random(30)\n",
        "m = Z.mean()\n",
        "print(m)"
      ],
      "execution_count": null,
      "outputs": []
    },
    {
      "cell_type": "markdown",
      "metadata": {
        "id": "Oy2UmhsKq1KA"
      },
      "source": [
        "#### Задача 6\n",
        "\n",
        "Создать массив 3x3x3 со случайными значениями"
      ]
    },
    {
      "cell_type": "code",
      "metadata": {
        "id": "xwtTL89oq0T6",
        "colab": {
          "base_uri": "https://localhost:8080/"
        },
        "outputId": "10c3fc63-a461-48de-8b43-666bc094e80f"
      },
      "source": [
        "Z = np.random.random((3,3,3))\n",
        "print(Z)"
      ],
      "execution_count": null,
      "outputs": [
        {
          "output_type": "stream",
          "name": "stdout",
          "text": [
            "[[[0.14682728 0.60488862 0.55214104]\n",
            "  [0.29390222 0.39185341 0.25724248]\n",
            "  [0.84646582 0.73317649 0.20185454]]\n",
            "\n",
            " [[0.65022861 0.35337759 0.56984072]\n",
            "  [0.01292567 0.54178366 0.93671164]\n",
            "  [0.63337557 0.55405329 0.34844484]]\n",
            "\n",
            " [[0.2267585  0.74024472 0.75063131]\n",
            "  [0.41643333 0.92829033 0.89710262]\n",
            "  [0.91329023 0.99657401 0.81925018]]]\n"
          ]
        }
      ]
    },
    {
      "cell_type": "code",
      "metadata": {
        "id": "1y7JEicnq_L-",
        "colab": {
          "base_uri": "https://localhost:8080/"
        },
        "outputId": "b8e3f6fe-f0c9-455a-9ed2-f191ed5beda6"
      },
      "source": [
        "z = np.random.random(27).reshape(3, 3, 3)\n",
        "print(z)"
      ],
      "execution_count": null,
      "outputs": [
        {
          "output_type": "stream",
          "name": "stdout",
          "text": [
            "[[[0.9278061  0.93310747 0.63501946]\n",
            "  [0.72104535 0.42933527 0.29318769]\n",
            "  [0.00473759 0.36020691 0.7456054 ]]\n",
            "\n",
            " [[0.23858885 0.76021935 0.6535344 ]\n",
            "  [0.22378782 0.2303567  0.50700084]\n",
            "  [0.84045446 0.68984668 0.19895431]]\n",
            "\n",
            " [[0.4660025  0.34029159 0.09374407]\n",
            "  [0.14264662 0.92462574 0.10766562]\n",
            "  [0.44560479 0.43471814 0.66990173]]]\n"
          ]
        }
      ]
    },
    {
      "cell_type": "markdown",
      "metadata": {
        "id": "Hc_HeOe_1CZk"
      },
      "source": [
        "## [Matplotlib](https://python-scripts.com/matplotlib)\n",
        "\n",
        "Библиотека matplotlib - это бибилиотека двумерной графики для языка программирования python с помощью которой можно создавать высококачественные рисунки различных форматов. Matplotlib представляет собой модуль-пакет для python."
      ]
    },
    {
      "cell_type": "code",
      "metadata": {
        "id": "W8ZLHibJ1mIe"
      },
      "source": [
        "import matplotlib.pyplot as plt"
      ],
      "execution_count": null,
      "outputs": []
    },
    {
      "cell_type": "code",
      "metadata": {
        "id": "uW0aufHzuhjx",
        "colab": {
          "base_uri": "https://localhost:8080/",
          "height": 282
        },
        "outputId": "72f34dd7-1565-4196-d57c-81361c881390"
      },
      "source": [
        "plt.plot([1, 2, 3, 4, 5], [1, 2, 3, 3, 5])"
      ],
      "execution_count": null,
      "outputs": [
        {
          "output_type": "execute_result",
          "data": {
            "text/plain": [
              "[<matplotlib.lines.Line2D at 0x7f3dc0e3f8d0>]"
            ]
          },
          "metadata": {},
          "execution_count": 32
        },
        {
          "output_type": "display_data",
          "data": {
            "image/png": "[encoded data removed]",
            "text/plain": [
              "<Figure size 432x288 with 1 Axes>"
            ]
          },
          "metadata": {
            "needs_background": "light"
          }
        }
      ]
    },
    {
      "cell_type": "markdown",
      "metadata": {
        "id": "3TjAIDmxu7_y"
      },
      "source": [
        "### Построение графика\n",
        "\n",
        "Для начала построим простую линейную зависимость, дадим нашему графику название, подпишем оси и отобразим сетку."
      ]
    },
    {
      "cell_type": "code",
      "metadata": {
        "id": "hdXkhBNAvSAE"
      },
      "source": [
        "# Независимая (x) и зависимая (y) переменные\n",
        "x = np.linspace(0, 10, 50)\n",
        "y = x * x + 2"
      ],
      "execution_count": null,
      "outputs": []
    },
    {
      "cell_type": "code",
      "metadata": {
        "id": "1ikofCNXS14Q",
        "colab": {
          "base_uri": "https://localhost:8080/"
        },
        "outputId": "5bfebe31-9b61-4866-f41d-34e87e3acf96"
      },
      "source": [
        "x"
      ],
      "execution_count": null,
      "outputs": [
        {
          "output_type": "execute_result",
          "data": {
            "text/plain": [
              "array([ 0.        ,  0.20408163,  0.40816327,  0.6122449 ,  0.81632653,\n",
              "        1.02040816,  1.2244898 ,  1.42857143,  1.63265306,  1.83673469,\n",
              "        2.04081633,  2.24489796,  2.44897959,  2.65306122,  2.85714286,\n",
              "        3.06122449,  3.26530612,  3.46938776,  3.67346939,  3.87755102,\n",
              "        4.08163265,  4.28571429,  4.48979592,  4.69387755,  4.89795918,\n",
              "        5.10204082,  5.30612245,  5.51020408,  5.71428571,  5.91836735,\n",
              "        6.12244898,  6.32653061,  6.53061224,  6.73469388,  6.93877551,\n",
              "        7.14285714,  7.34693878,  7.55102041,  7.75510204,  7.95918367,\n",
              "        8.16326531,  8.36734694,  8.57142857,  8.7755102 ,  8.97959184,\n",
              "        9.18367347,  9.3877551 ,  9.59183673,  9.79591837, 10.        ])"
            ]
          },
          "metadata": {},
          "execution_count": 34
        }
      ]
    },
    {
      "cell_type": "code",
      "metadata": {
        "id": "1Q1gdsC1yWNR",
        "colab": {
          "base_uri": "https://localhost:8080/",
          "height": 312
        },
        "outputId": "11ecabc9-4087-44a0-c6a9-352b5c1938ae"
      },
      "source": [
        "# Построение графика\n",
        "plt.title(\"Линейная зависимость y = x\") # заголовок\n",
        "plt.xlabel(\"x\") # ось абсцисс\n",
        "plt.ylabel(\"y\") # ось ординат\n",
        "plt.grid()      # включение отображение сетки\n",
        "plt.plot(x, y)  # построение графика"
      ],
      "execution_count": null,
      "outputs": [
        {
          "output_type": "execute_result",
          "data": {
            "text/plain": [
              "[<matplotlib.lines.Line2D at 0x7f3dba338b10>]"
            ]
          },
          "metadata": {},
          "execution_count": 35
        },
        {
          "output_type": "display_data",
          "data": {
            "image/png": "[encoded data removed]",
            "text/plain": [
              "<Figure size 432x288 with 1 Axes>"
            ]
          },
          "metadata": {
            "needs_background": "light"
          }
        }
      ]
    },
    {
      "cell_type": "markdown",
      "metadata": {
        "id": "Db04AwpwylA9"
      },
      "source": [
        "Изменим тип линии и ее цвет, для этого в функцию plot(), в качестве третьего параметра передадим строку, сформированную определенным образом, в нашем случае это “r–”, где “r” означает красный цвет, а “–” – тип линии – пунктирная линия."
      ]
    },
    {
      "cell_type": "code",
      "metadata": {
        "id": "KSjFiJDoyl64",
        "colab": {
          "base_uri": "https://localhost:8080/",
          "height": 312
        },
        "outputId": "9b7c5f86-1d9d-4b7a-e01b-88f7402c225e"
      },
      "source": [
        "# Построение графика\n",
        "plt.title(\"Линейная зависимость y = x\") # заголовок\n",
        "plt.xlabel(\"x\") # ось абсцисс\n",
        "plt.ylabel(\"y\") # ось ординат\n",
        "plt.grid()      # включение отображение сетки\n",
        "plt.plot(x, y, \"g--\")  # построение графика"
      ],
      "execution_count": null,
      "outputs": [
        {
          "output_type": "execute_result",
          "data": {
            "text/plain": [
              "[<matplotlib.lines.Line2D at 0x7faf3568f350>]"
            ]
          },
          "metadata": {},
          "execution_count": 47
        },
        {
          "output_type": "display_data",
          "data": {
            "image/png": "[encoded data removed]",
            "text/plain": [
              "<Figure size 432x288 with 1 Axes>"
            ]
          },
          "metadata": {
            "needs_background": "light"
          }
        }
      ]
    },
    {
      "cell_type": "markdown",
      "metadata": {
        "id": "Bbv8OXSGytor"
      },
      "source": [
        "###Несколько графиков на одном поле\n",
        "\n",
        "Построим несколько графиков на одном поле, для этого добавим квадратичную зависимость:"
      ]
    },
    {
      "cell_type": "code",
      "metadata": {
        "id": "gZG2An2qyxkO",
        "colab": {
          "base_uri": "https://localhost:8080/",
          "height": 329
        },
        "outputId": "1a60f223-6287-4971-d16a-c0f64806c9c6"
      },
      "source": [
        "# Линейная зависимость\n",
        "x = np.linspace(0, 10, 50)\n",
        "y1 = x\n",
        "# Квадратичная зависимость\n",
        "y2 = [i**2 for i in x]\n",
        "# Построение графика\n",
        "plt.title(\"Зависимости: y1 = x, y2 = x^2\") # заголовок\n",
        "plt.xlabel(\"x\")         # ось абсцисс\n",
        "plt.ylabel(\"y1, y2\")    # ось ординат\n",
        "plt.grid()              # включение отображение сетки\n",
        "plt.plot(x, y1, x, y2)  # построение графика"
      ],
      "execution_count": null,
      "outputs": [
        {
          "output_type": "execute_result",
          "data": {
            "text/plain": [
              "[<matplotlib.lines.Line2D at 0x7faf356b0750>,\n",
              " <matplotlib.lines.Line2D at 0x7faf356b0dd0>]"
            ]
          },
          "metadata": {},
          "execution_count": 48
        },
        {
          "output_type": "display_data",
          "data": {
            "image/png": "[encoded data removed]",
            "text/plain": [
              "<Figure size 432x288 with 1 Axes>"
            ]
          },
          "metadata": {
            "needs_background": "light"
          }
        }
      ]
    },
    {
      "cell_type": "markdown",
      "metadata": {
        "id": "ApwIE5Qmy8aG"
      },
      "source": [
        "В приведенном примере в функцию plot() последовательно передаются два массива для построения первого графика и два массива для построения второго, при этом, как вы можете заметить, для обоих графиков массив значений независимой переменной x один и то же."
      ]
    },
    {
      "cell_type": "markdown",
      "metadata": {
        "id": "VTuu7LIY0qD-"
      },
      "source": [
        "###Построение диаграммы для категориальных данных\n",
        "\n",
        "До этого мы строили графики по численным данным, т.е. зависимая и независимая переменные имели числовой тип. На практике довольно часто приходится работать с данными нечисловой природы – имена людей, название фруктов, и т.п.\n",
        "\n",
        "Построим диаграмму на которой будет отображаться количество фруктов в магазине:"
      ]
    },
    {
      "cell_type": "code",
      "metadata": {
        "id": "y7gj8F2a0uFN",
        "colab": {
          "base_uri": "https://localhost:8080/",
          "height": 312
        },
        "outputId": "d1a9d984-656f-4d37-ed34-ace1e2dfa67a"
      },
      "source": [
        "fruits = [\"apple\", \"peach\", \"orange\", \"banana\", \"melon\"]\n",
        "counts = [34, 25, 43, 31, 17]\n",
        "plt.bar(fruits, counts)\n",
        "plt.title(\"Fruits\")\n",
        "plt.xlabel(\"Fruit\")\n",
        "plt.ylabel(\"Count\")"
      ],
      "execution_count": null,
      "outputs": [
        {
          "output_type": "execute_result",
          "data": {
            "text/plain": [
              "Text(0, 0.5, 'Count')"
            ]
          },
          "metadata": {},
          "execution_count": 49
        },
        {
          "output_type": "display_data",
          "data": {
            "image/png": "[encoded data removed]",
            "text/plain": [
              "<Figure size 432x288 with 1 Axes>"
            ]
          },
          "metadata": {
            "needs_background": "light"
          }
        }
      ]
    },
    {
      "cell_type": "markdown",
      "metadata": {
        "id": "OwoB1dgo02q_"
      },
      "source": [
        "Для вывода диаграммы мы использовали функцию bar().\n",
        "\n",
        "К этому моменту, если вы самостоятельно попробовали запустить приведенные выше примеры, у вас уже должно сформировать некоторое понимание того, как осуществляется работа с этой библиотекой. "
      ]
    },
    {
      "cell_type": "markdown",
      "metadata": {
        "id": "9NQ4BKhH2uM0"
      },
      "source": [
        "##Pandas\n",
        "\n",
        "pandas - это Python библиотека для анализа и обработки данных. Она действительно быстрая и позволяет вам легко исследовать данные."
      ]
    },
    {
      "cell_type": "code",
      "metadata": {
        "id": "vUkHZt-Q24o1"
      },
      "source": [
        "import pandas as pd"
      ],
      "execution_count": null,
      "outputs": []
    },
    {
      "cell_type": "code",
      "metadata": {
        "id": "b_o093dT4PlP"
      },
      "source": [
        "data = pd.read_csv('/content/sample_data/california_housing_test.csv')"
      ],
      "execution_count": null,
      "outputs": []
    },
    {
      "cell_type": "code",
      "metadata": {
        "id": "C1znIb-d4can"
      },
      "source": [
        "data"
      ],
      "execution_count": null,
      "outputs": []
    },
    {
      "cell_type": "code",
      "metadata": {
        "id": "SuUBPF4T4bXC",
        "colab": {
          "base_uri": "https://localhost:8080/",
          "height": 226
        },
        "outputId": "68b40b3c-880d-4707-bd62-d1b9b0907d9b"
      },
      "source": [
        "data.head()"
      ],
      "execution_count": null,
      "outputs": [
        {
          "output_type": "execute_result",
          "data": {
            "text/html": [
              "<div>\n",
              "<style scoped>\n",
              "    .dataframe tbody tr th:only-of-type {\n",
              "        vertical-align: middle;\n",
              "    }\n",
              "\n",
              "    .dataframe tbody tr th {\n",
              "        vertical-align: top;\n",
              "    }\n",
              "\n",
              "    .dataframe thead th {\n",
              "        text-align: right;\n",
              "    }\n",
              "</style>\n",
              "<table border=\"1\" class=\"dataframe\">\n",
              "  <thead>\n",
              "    <tr style=\"text-align: right;\">\n",
              "      <th></th>\n",
              "      <th>longitude</th>\n",
              "      <th>latitude</th>\n",
              "      <th>housing_median_age</th>\n",
              "      <th>total_rooms</th>\n",
              "      <th>total_bedrooms</th>\n",
              "      <th>population</th>\n",
              "      <th>households</th>\n",
              "      <th>median_income</th>\n",
              "      <th>median_house_value</th>\n",
              "    </tr>\n",
              "  </thead>\n",
              "  <tbody>\n",
              "    <tr>\n",
              "      <th>0</th>\n",
              "      <td>-122.05</td>\n",
              "      <td>37.37</td>\n",
              "      <td>27.0</td>\n",
              "      <td>3885.0</td>\n",
              "      <td>661.0</td>\n",
              "      <td>1537.0</td>\n",
              "      <td>606.0</td>\n",
              "      <td>6.6085</td>\n",
              "      <td>344700.0</td>\n",
              "    </tr>\n",
              "    <tr>\n",
              "      <th>1</th>\n",
              "      <td>-118.30</td>\n",
              "      <td>34.26</td>\n",
              "      <td>43.0</td>\n",
              "      <td>1510.0</td>\n",
              "      <td>310.0</td>\n",
              "      <td>809.0</td>\n",
              "      <td>277.0</td>\n",
              "      <td>3.5990</td>\n",
              "      <td>176500.0</td>\n",
              "    </tr>\n",
              "    <tr>\n",
              "      <th>2</th>\n",
              "      <td>-117.81</td>\n",
              "      <td>33.78</td>\n",
              "      <td>27.0</td>\n",
              "      <td>3589.0</td>\n",
              "      <td>507.0</td>\n",
              "      <td>1484.0</td>\n",
              "      <td>495.0</td>\n",
              "      <td>5.7934</td>\n",
              "      <td>270500.0</td>\n",
              "    </tr>\n",
              "    <tr>\n",
              "      <th>3</th>\n",
              "      <td>-118.36</td>\n",
              "      <td>33.82</td>\n",
              "      <td>28.0</td>\n",
              "      <td>67.0</td>\n",
              "      <td>15.0</td>\n",
              "      <td>49.0</td>\n",
              "      <td>11.0</td>\n",
              "      <td>6.1359</td>\n",
              "      <td>330000.0</td>\n",
              "    </tr>\n",
              "    <tr>\n",
              "      <th>4</th>\n",
              "      <td>-119.67</td>\n",
              "      <td>36.33</td>\n",
              "      <td>19.0</td>\n",
              "      <td>1241.0</td>\n",
              "      <td>244.0</td>\n",
              "      <td>850.0</td>\n",
              "      <td>237.0</td>\n",
              "      <td>2.9375</td>\n",
              "      <td>81700.0</td>\n",
              "    </tr>\n",
              "  </tbody>\n",
              "</table>\n",
              "</div>"
            ],
            "text/plain": [
              "   longitude  latitude  ...  median_income  median_house_value\n",
              "0    -122.05     37.37  ...         6.6085            344700.0\n",
              "1    -118.30     34.26  ...         3.5990            176500.0\n",
              "2    -117.81     33.78  ...         5.7934            270500.0\n",
              "3    -118.36     33.82  ...         6.1359            330000.0\n",
              "4    -119.67     36.33  ...         2.9375             81700.0\n",
              "\n",
              "[5 rows x 9 columns]"
            ]
          },
          "metadata": {},
          "execution_count": 14
        }
      ]
    },
    {
      "cell_type": "code",
      "metadata": {
        "id": "vYlHwD9l4pgc"
      },
      "source": [
        "data['households'].plot()"
      ],
      "execution_count": null,
      "outputs": []
    }
  ]
}